{
 "cells": [
  {
   "cell_type": "code",
   "execution_count": null,
   "metadata": {
    "collapsed": true
   },
   "outputs": [],
   "source": [
    "import serial\n",
    "import cv2\n",
    "import numpy as np\n",
    "from skimage import io # necesario para leer imágenes\n",
    " \n",
    "cap = cv2.VideoCapture(0)\n",
    " \n",
    "def nothing(x):\n",
    "    pass\n",
    " \n",
    "#Creamos una ventana llamada 'image' en la que habra todos los sliders\n",
    "cv2.namedWindow('image')\n",
    "cv2.createTrackbar('Hue Minimo','image',0,255,nothing)\n",
    "cv2.createTrackbar('Hue Maximo','image',0,255,nothing)\n",
    "cv2.createTrackbar('Saturation Minimo','image',0,255,nothing)\n",
    "cv2.createTrackbar('Saturation Maximo','image',0,255,nothing)\n",
    "cv2.createTrackbar('Value Minimo','image',0,255,nothing)\n",
    "cv2.createTrackbar('Value Maximo','image',0,255,nothing)\n",
    " \n",
    "while(1):\n",
    "    \n",
    "    fname = \"C:/Users/andro/Documents/Workspace GitHub/PrawnView Pruebas/images/Melanosis/M_8.2.jpg\"\n",
    "    frame= io.imread(fname)\n",
    "    \n",
    "    #_,frame = cap.read() #Leer un frame\n",
    "    hsv = cv2.cvtColor(frame, cv2.COLOR_BGR2HSV) #Convertirlo a espacio de color HSV\n",
    " \n",
    "  #Los valores maximo y minimo de H,S y V se guardan en funcion de la posicion de los sliders\n",
    "    hMin = cv2.getTrackbarPos('Hue Minimo','image')\n",
    "    hMax = cv2.getTrackbarPos('Hue Maximo','image')\n",
    "    sMin = cv2.getTrackbarPos('Saturation Minimo','image')\n",
    "    sMax = cv2.getTrackbarPos('Saturation Maximo','image')\n",
    "    vMin = cv2.getTrackbarPos('Value Minimo','image')\n",
    "    vMax = cv2.getTrackbarPos('Value Maximo','image')\n",
    " \n",
    "  #Se crea un array con las posiciones minimas y maximas\n",
    "    lower=np.array([hMin,sMin,vMin])\n",
    "    upper=np.array([hMax,sMax,vMax])\n",
    " \n",
    "  #Deteccion de colores\n",
    "    mask = cv2.inRange(hsv, lower, upper)\n",
    " \n",
    "  #Mostrar los resultados y salir\n",
    "    cv2.imshow('camara',frame)\n",
    "    cv2.imshow('mask',mask)\n",
    "    k = cv2.waitKey(5) & 0xFF\n",
    "    if k == 27:\n",
    "        break\n",
    "cv2.destroyAllWindows()"
   ]
  },
  {
   "cell_type": "code",
   "execution_count": 1,
   "metadata": {},
   "outputs": [
    {
     "ename": "SyntaxError",
     "evalue": "'break' outside loop (<ipython-input-1-d9765e6a0654>, line 45)",
     "output_type": "error",
     "traceback": [
      "\u001b[1;36m  File \u001b[1;32m\"<ipython-input-1-d9765e6a0654>\"\u001b[1;36m, line \u001b[1;32m45\u001b[0m\n\u001b[1;33m    break\u001b[0m\n\u001b[1;37m    ^\u001b[0m\n\u001b[1;31mSyntaxError\u001b[0m\u001b[1;31m:\u001b[0m 'break' outside loop\n"
     ]
    }
   ],
   "source": [
    "import serial\n",
    "import cv2\n",
    "from skimage import io # necesario para leer imágenes\n",
    "import numpy as np\n",
    " \n",
    "def nothing(x):\n",
    "    pass\n",
    "    \n",
    "#Creamos una ventana llamada 'image' en la que habra todos los sliders\n",
    "cv2.namedWindow('image')\n",
    "cv2.createTrackbar('Hue Minimo','image',0,255,nothing)\n",
    "cv2.createTrackbar('Hue Maximo','image',0,255,nothing)\n",
    "cv2.createTrackbar('Saturation Minimo','image',0,255,nothing)\n",
    "cv2.createTrackbar('Saturation Maximo','image',0,255,nothing)\n",
    "cv2.createTrackbar('Value Minimo','image',0,255,nothing)\n",
    "cv2.createTrackbar('Value Maximo','image',0,255,nothing)\n",
    "\n",
    "\n",
    "# O más rápido, decir explicitamente la imagen a cargar\n",
    "fname = \"C:/Users/andro/Documents/Workspace GitHub/PrawnView Pruebas/images/Melanosis/M_8.2.jpg\"\n",
    "frame= io.imread(fname)\n",
    "hsv = cv2.cvtColor(frame, cv2.COLOR_BGR2HSV) #Convertirlo a espacio de color HSV\n",
    "\n",
    "#Los valores maximo y minimo de H,S y V se guardan en funcion de la posicion de los sliders\n",
    "hMin = cv2.getTrackbarPos('Hue Minimo','image')\n",
    "hMax = cv2.getTrackbarPos('Hue Maximo','image')\n",
    "sMin = cv2.getTrackbarPos('Saturation Minimo','image')\n",
    "sMax = cv2.getTrackbarPos('Saturation Maximo','image')\n",
    "vMin = cv2.getTrackbarPos('Value Minimo','image')\n",
    "vMax = cv2.getTrackbarPos('Value Maximo','image')\n",
    "\n",
    "#Se crea un array con las posiciones minimas y maximas\n",
    "lower=np.array([hMin,sMin,vMin])\n",
    "upper=np.array([hMax,sMax,vMax])\n",
    "\n",
    "#Deteccion de colores\n",
    "mask = cv2.inRange(hsv, lower, upper)\n",
    "\n",
    "#Mostrar los resultados y salir\n",
    "cv2.imshow('camara',frame)\n",
    "cv2.imshow('mask',mask)\n",
    "k = cv2.waitKey(1) & 0xFF\n",
    "    \n",
    "if k==27:\n",
    "    break\n",
    "cv2.destroyAllWindows()"
   ]
  },
  {
   "cell_type": "code",
   "execution_count": null,
   "metadata": {
    "collapsed": true
   },
   "outputs": [],
   "source": []
  },
  {
   "cell_type": "code",
   "execution_count": null,
   "metadata": {
    "collapsed": true
   },
   "outputs": [],
   "source": []
  }
 ],
 "metadata": {
  "kernelspec": {
   "display_name": "Python 3",
   "language": "python",
   "name": "python3"
  },
  "language_info": {
   "codemirror_mode": {
    "name": "ipython",
    "version": 3
   },
   "file_extension": ".py",
   "mimetype": "text/x-python",
   "name": "python",
   "nbconvert_exporter": "python",
   "pygments_lexer": "ipython3",
   "version": "3.6.1"
  }
 },
 "nbformat": 4,
 "nbformat_minor": 2
}
