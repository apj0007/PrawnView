{
 "cells": [
  {
   "cell_type": "code",
   "execution_count": null,
   "metadata": {
    "collapsed": true
   },
   "outputs": [],
   "source": [
    "%matplotlib inline\n",
    "\n",
    "\n",
    "from skimage import io # necesario para leer imágenes\n",
    "import matplotlib.pyplot as plt #matplotlib es necesario para mostrar gráficos\n",
    "import matplotlib.cm as cm\n",
    "import matplotlib.patches as mpatches\n",
    "import numpy\n",
    "import cv2"
   ]
  },
  {
   "cell_type": "code",
   "execution_count": null,
   "metadata": {
    "collapsed": true
   },
   "outputs": [],
   "source": [
    "#Cargar imagen\n",
    "img=cv2.imread(\"C:/Users/oficina31/WorkspaceAnaconda/Prawn.jpg\")\n",
    "\n",
    "#Cargar imagen en escala de grises\n",
    "#img=cv2.imread(\"C:/Users/oficina31/WorkspaceAnaconda/Prawn.jpg\",cv2.IMREAD_GREYSCALE)"
   ]
  },
  {
   "cell_type": "code",
   "execution_count": null,
   "metadata": {
    "collapsed": true
   },
   "outputs": [],
   "source": [
    "#Guardar una imagen\n",
    "#img=cv2.imwrite(\"IMG_GUARD_CV2\",img)"
   ]
  },
  {
   "cell_type": "code",
   "execution_count": null,
   "metadata": {
    "collapsed": true
   },
   "outputs": [],
   "source": [
    "#Mostrar la imagen,esperar a pulsar una tecla y cerrar todas  las ventanas\n",
    "cv2.imshow('image',img)\n",
    "cv2.waitKey(0)\n",
    "cv2.destroyAllWindows()"
   ]
  },
  {
   "cell_type": "code",
   "execution_count": null,
   "metadata": {
    "collapsed": true
   },
   "outputs": [],
   "source": [
    "def matplotlib():\n",
    "\n",
    "    img=cv2.imread(\"C:/Users/oficina31/WorkspaceAnaconda/Prawn.jpg\")\n",
    "    plt.imshow(img)\n",
    "    plt.xticks([]), plt.yticks([])\n",
    "    plt.show()\n",
    "\n",
    "    return"
   ]
  },
  {
   "cell_type": "code",
   "execution_count": null,
   "metadata": {
    "collapsed": true
   },
   "outputs": [],
   "source": [
    "matplotlib()"
   ]
  },
  {
   "cell_type": "code",
   "execution_count": 1,
   "metadata": {
    "collapsed": true
   },
   "outputs": [],
   "source": [
    "def camaraWeb():    \n",
    "    cap = cv2.VideoCapture(0)\n",
    "\n",
    "    while(True):\n",
    "        # Captura frame por frame\n",
    "        ret,frame = cap.read()   \n",
    "        gray = cv2.cvtColor(frame, cv2.COLOR_BGR2GRAY)  \n",
    "        cv2.imshow('frame',frame)\n",
    "        \n",
    "        if cv2.waitKey(1) & 0xFF == ord('q'):\n",
    "            break\n",
    "    \n",
    "    # When everything done, release the capture\n",
    "    cap.release()\n",
    "    cv2.destroyAllWindows()"
   ]
  },
  {
   "cell_type": "code",
   "execution_count": null,
   "metadata": {
    "collapsed": true
   },
   "outputs": [],
   "source": [
    "camaraWeb()"
   ]
  }
 ],
 "metadata": {
  "kernelspec": {
   "display_name": "Python 3",
   "language": "python",
   "name": "python3"
  },
  "language_info": {
   "codemirror_mode": {
    "name": "ipython",
    "version": 3
   },
   "file_extension": ".py",
   "mimetype": "text/x-python",
   "name": "python",
   "nbconvert_exporter": "python",
   "pygments_lexer": "ipython3",
   "version": "3.6.1"
  }
 },
 "nbformat": 4,
 "nbformat_minor": 2
}
