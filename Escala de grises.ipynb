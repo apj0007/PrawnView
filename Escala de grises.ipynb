{
 "cells": [
  {
   "cell_type": "code",
   "execution_count": 38,
   "metadata": {
    "collapsed": true
   },
   "outputs": [],
   "source": [
    "import numpy as np\n",
    "\n",
    "from skimage import io # necesario para leer imágenes\n",
    "import matplotlib.pyplot as plt #matplotlib es necesario para mostrar gráficos\n",
    "from matplotlib.pyplot import figure, imshow, imread, gray, imread, gray, imsave\n",
    "from ipywidgets import interact, interactive, fixed, interact_manual\n",
    "from PIL import Image"
   ]
  },
  {
   "cell_type": "code",
   "execution_count": 39,
   "metadata": {},
   "outputs": [],
   "source": [
    "def gray(fname):\n",
    " \n",
    "    foto = Image.open(fname)\n",
    "\n",
    "    datos = foto.getdata()\n",
    "\n",
    "    #para el calculo del promedio se utilizara la division entera con el operador de division doble \"//\" para evitar decimales\n",
    "\n",
    "    promedio = [(datos[x][0] + datos[x][1] + datos[x][2]) // 3 for x in range(len(datos))]\n",
    "\n",
    "    imagen_gris = Image.new('L', foto.size)\n",
    "\n",
    "    imagen_gris.putdata(promedio)\n",
    "\n",
    "    imagen_gris.save(\"C:/Users/andro/Documents/Workspace GitHub/PrawnView Pruebas/images/sizes1g.jpg\")\n",
    "\n",
    "    foto.close()\n",
    "\n",
    "    imagen_gris.close()"
   ]
  },
  {
   "cell_type": "code",
   "execution_count": 40,
   "metadata": {},
   "outputs": [],
   "source": [
    "fname=\"C:/Users/andro/Documents/Workspace GitHub/PrawnView Pruebas/images/sizes1.jpg\"\n",
    "gray(fname)"
   ]
  },
  {
   "cell_type": "code",
   "execution_count": 41,
   "metadata": {},
   "outputs": [],
   "source": [
    "imgGris=\"C:/Users/andro/Documents/Workspace GitHub/PrawnView Pruebas/images/sizes1g.jpg\"\n",
    "image = io.imread(imgGris)"
   ]
  },
  {
   "cell_type": "code",
   "execution_count": 42,
   "metadata": {},
   "outputs": [
    {
     "data": {
      "text/plain": [
       "<matplotlib.image.AxesImage at 0x1fc9a89ef60>"
      ]
     },
     "execution_count": 42,
     "metadata": {},
     "output_type": "execute_result"
    }
   ],
   "source": [
    "imgGrande = io.imread(fname)\n",
    "fig, ax = plt.subplots(ncols=1, nrows=1, figsize=(2, 1))\n",
    "ax.imshow(imgGrande, cmap=plt.cm.gray)"
   ]
  },
  {
   "cell_type": "code",
   "execution_count": null,
   "metadata": {
    "collapsed": true
   },
   "outputs": [],
   "source": []
  }
 ],
 "metadata": {
  "kernelspec": {
   "display_name": "Python 3",
   "language": "python",
   "name": "python3"
  },
  "language_info": {
   "codemirror_mode": {
    "name": "ipython",
    "version": 3
   },
   "file_extension": ".py",
   "mimetype": "text/x-python",
   "name": "python",
   "nbconvert_exporter": "python",
   "pygments_lexer": "ipython3",
   "version": "3.6.1"
  }
 },
 "nbformat": 4,
 "nbformat_minor": 2
}
