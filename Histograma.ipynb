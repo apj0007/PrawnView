{
 "cells": [
  {
   "cell_type": "code",
   "execution_count": 1,
   "metadata": {
    "collapsed": true
   },
   "outputs": [],
   "source": [
    "import numpy as np\n",
    "from __future__ import print_function\n",
    "from ipywidgets import interact, interactive, fixed, interact_manual\n",
    "from skimage.filters import threshold_otsu, rank\n",
    "import ipywidgets as widgets\n",
    "from skimage import io # necesario para leer imágenes\n",
    "import matplotlib.pyplot as plt #matplotlib es necesario para mostrar gráficos"
   ]
  },
  {
   "cell_type": "code",
   "execution_count": 2,
   "metadata": {
    "collapsed": true
   },
   "outputs": [],
   "source": [
    "def f(x):\n",
    "    \n",
    "    fname = \"C:/Users/andro/Documents/Workspace GitHub/PrawnView Pruebas/images/Melanosis/M_6.3g.jpg\"\n",
    "    image = io.imread(fname)\n",
    "    print(type(image))\n",
    "    thresh = threshold_otsu(image)\n",
    "    binary = image > x\n",
    "    \n",
    "\n",
    "    fig, axes = plt.subplots(ncols=3, figsize=(8, 2.5))\n",
    "    ax = axes.ravel()\n",
    "    \n",
    "    ax[0] = plt.subplot(1, 3, 1, adjustable='box-forced')\n",
    "    ax[1] = plt.subplot(1, 3, 2)\n",
    "    ax[2] = plt.subplot(1, 3, 3, sharex=ax[0], sharey=ax[0], adjustable='box-forced')\n",
    "\n",
    "    ax[0].imshow(image, cmap=plt.cm.gray)\n",
    "    ax[0].set_title('Original')\n",
    "    ax[0].axis('off')\n",
    "\n",
    "    ax[1].hist(image.ravel(), bins=256)\n",
    "    ax[1].set_title('Histogram')\n",
    "    ax[1].axvline(thresh, color='r')\n",
    "\n",
    "    ax[2].imshow(binary, cmap=plt.cm.gray)\n",
    "    ax[2].set_title('Thresholded')\n",
    "    ax[2].axis('off')\n",
    "\n",
    "    plt.show()\n",
    "    return x"
   ]
  },
  {
   "cell_type": "code",
   "execution_count": 3,
   "metadata": {},
   "outputs": [
    {
     "data": {
      "application/vnd.jupyter.widget-view+json": {
       "model_id": "c17f58a807e14c5a96faf6360bd19ce0"
      }
     },
     "metadata": {},
     "output_type": "display_data"
    }
   ],
   "source": [
    "interact(f, x=(100,180));"
   ]
  },
  {
   "cell_type": "code",
   "execution_count": 7,
   "metadata": {},
   "outputs": [
    {
     "name": "stdout",
     "output_type": "stream",
     "text": [
      "<class 'numpy.ndarray'>\n"
     ]
    }
   ],
   "source": [
    "fname = \"C:/Users/andro/Documents/Workspace GitHub/PrawnView Pruebas/images/Melanosis/M_6.3g.jpg\"\n",
    "image = io.imread(fname)\n",
    "print(type(image))"
   ]
  },
  {
   "cell_type": "code",
   "execution_count": 8,
   "metadata": {
    "collapsed": true
   },
   "outputs": [],
   "source": [
    "def myfunc(a):\n",
    "    \"Return a-b if a>b, otherwise return a+b\"\n",
    "    if a > 10:\n",
    "        return a \n",
    "    else:\n",
    "        return 0\n",
    "\n",
    "vfunc = np.vectorize(myfunc)"
   ]
  },
  {
   "cell_type": "code",
   "execution_count": 9,
   "metadata": {},
   "outputs": [
    {
     "data": {
      "text/plain": [
       "array([[109, 109, 109, ..., 108, 108, 108],\n",
       "       [109, 109, 109, ..., 108, 108, 108],\n",
       "       [109, 109, 109, ..., 109, 109, 109],\n",
       "       ..., \n",
       "       [145, 146, 146, ..., 132, 132, 131],\n",
       "       [145, 146, 146, ..., 133, 133, 133],\n",
       "       [145, 146, 146, ..., 133, 133, 134]], dtype=uint8)"
      ]
     },
     "execution_count": 9,
     "metadata": {},
     "output_type": "execute_result"
    }
   ],
   "source": [
    "vfunc(image)"
   ]
  },
  {
   "cell_type": "code",
   "execution_count": 10,
   "metadata": {},
   "outputs": [
    {
     "name": "stdout",
     "output_type": "stream",
     "text": [
      "<class 'numpy.ndarray'>\n"
     ]
    },
    {
     "data": {
      "text/plain": [
       "<matplotlib.image.AxesImage at 0x1ff0ee63908>"
      ]
     },
     "execution_count": 10,
     "metadata": {},
     "output_type": "execute_result"
    }
   ],
   "source": [
    "imgGrande=vfunc(image)\n",
    "print(type(imgGrande))\n",
    "imgGrande\n",
    "fig, ax = plt.subplots(ncols=1, nrows=1, figsize=(12, 12))\n",
    "ax.imshow(imgGrande, cmap=plt.cm.gray)\n"
   ]
  },
  {
   "cell_type": "code",
   "execution_count": null,
   "metadata": {
    "collapsed": true
   },
   "outputs": [],
   "source": []
  }
 ],
 "metadata": {
  "kernelspec": {
   "display_name": "Python 3",
   "language": "python",
   "name": "python3"
  },
  "language_info": {
   "codemirror_mode": {
    "name": "ipython",
    "version": 3
   },
   "file_extension": ".py",
   "mimetype": "text/x-python",
   "name": "python",
   "nbconvert_exporter": "python",
   "pygments_lexer": "ipython3",
   "version": "3.6.1"
  }
 },
 "nbformat": 4,
 "nbformat_minor": 2
}
