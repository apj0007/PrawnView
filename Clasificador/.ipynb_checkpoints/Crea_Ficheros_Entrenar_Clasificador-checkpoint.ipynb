{
 "cells": [
  {
   "cell_type": "code",
   "execution_count": 1,
   "metadata": {
    "collapsed": true
   },
   "outputs": [],
   "source": [
    "def listaImagenes(path):\n",
    "\n",
    "\n",
    "    # -*- coding: utf-8\n",
    "\n",
    "    import os\n",
    "    #Variable para la ruta al directorio\n",
    "    #path = '/home/zeito/'\n",
    "\n",
    "    #Lista vacia para incluir los ficheros\n",
    "    lstFiles = []\n",
    "\n",
    "    #Lista con todos los ficheros del directorio:\n",
    "    lstDir = os.walk(path)   #os.walk()Lista directorios y ficheros\n",
    "\n",
    "    #Crea una lista de los ficheros jpg que existen en el directorio y los incluye a la lista.\n",
    "\n",
    "    for root, dirs, files in lstDir:\n",
    "        for fichero in files:\n",
    "            (nombreFichero, extension) = os.path.splitext(fichero)\n",
    "            if(extension == \".jpg\"):\n",
    "                lstFiles.append(nombreFichero+extension)\n",
    "                #print (nombreFichero+extension)          \n",
    "    print ('LISTADO FINALIZADO')\n",
    "    print (\"longitud de la lista = \", len(lstFiles))\n",
    "    return lstFiles"
   ]
  },
  {
   "cell_type": "code",
   "execution_count": 2,
   "metadata": {
    "collapsed": true
   },
   "outputs": [],
   "source": [
    "def rutaImagenes(v):\n",
    "    if v==1:\n",
    "        ruta=\"C:/Users/andro/Documents/Workspace GitHub/PrawnView Pruebas/Clasificador/pos\"\n",
    "    else:\n",
    "        ruta=\"C:/Users/andro/Documents/Workspace GitHub/PrawnView Pruebas/Clasificador/neg\"\n",
    "    return ruta"
   ]
  },
  {
   "cell_type": "code",
   "execution_count": 3,
   "metadata": {
    "collapsed": true
   },
   "outputs": [],
   "source": [
    "def abrirFichero(v):\n",
    "    if v==1:\n",
    "        fichero = open ( 'pos.info', 'w' ) \n",
    "    else:\n",
    "        fichero = open ( 'neg.info', 'w' ) \n",
    "    return fichero"
   ]
  },
  {
   "cell_type": "code",
   "execution_count": 6,
   "metadata": {},
   "outputs": [
    {
     "name": "stdout",
     "output_type": "stream",
     "text": [
      "Selecciona el tipo de archivo que deseas cerar:\n",
      "\t-pos.info:1\n",
      "\t-neg.info:0\n",
      "0\n"
     ]
    }
   ],
   "source": [
    "tipoAnalisis=int(input(\"Selecciona el tipo de archivo que deseas cerar:\\n\\t-pos.info:1\\n\\t-neg.info:0\\n\"))"
   ]
  },
  {
   "cell_type": "code",
   "execution_count": 7,
   "metadata": {},
   "outputs": [
    {
     "name": "stdout",
     "output_type": "stream",
     "text": [
      "LISTADO FINALIZADO\n",
      "longitud de la lista =  0\n",
      "[]\n"
     ]
    }
   ],
   "source": [
    "lstFiles=listaImagenes(rutaImagenes(tipoAnalisis))\n",
    "fichero=abrirFichero(tipoAnalisis)\n",
    "def escribirArchivo(lstFiles,tipoAnalisis):\n",
    "    print(lstFiles)\n",
    "    for i in range(len(lstFiles)):\n",
    "        if tipoAnalisis==1:\n",
    "            fichero.write('pos/'+lstFiles[i]+' 1 0 0 100 40\\n')\n",
    "        else:\n",
    "            fichero.write('neg/'+lstFiles[i]+'\\n')\n",
    "    fichero.close()\n",
    "escribirArchivo(lstFiles,tipoAnalisis)\n"
   ]
  },
  {
   "cell_type": "code",
   "execution_count": null,
   "metadata": {
    "collapsed": true
   },
   "outputs": [],
   "source": []
  }
 ],
 "metadata": {
  "kernelspec": {
   "display_name": "Python 3",
   "language": "python",
   "name": "python3"
  },
  "language_info": {
   "codemirror_mode": {
    "name": "ipython",
    "version": 3
   },
   "file_extension": ".py",
   "mimetype": "text/x-python",
   "name": "python",
   "nbconvert_exporter": "python",
   "pygments_lexer": "ipython3",
   "version": "3.6.1"
  }
 },
 "nbformat": 4,
 "nbformat_minor": 2
}
